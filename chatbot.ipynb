{
 "cells": [
  {
   "metadata": {
    "ExecuteTime": {
     "end_time": "2025-06-15T00:33:52.820378Z",
     "start_time": "2025-06-15T00:33:52.701642Z"
    }
   },
   "cell_type": "code",
   "source": "import ollama",
   "id": "59612d07ca68dc90",
   "outputs": [],
   "execution_count": 2
  },
  {
   "metadata": {},
   "cell_type": "markdown",
   "source": "### Trying to create a class for the Bot",
   "id": "87c9d95bce81b9d6"
  },
  {
   "metadata": {
    "ExecuteTime": {
     "end_time": "2025-06-15T00:33:49.466269Z",
     "start_time": "2025-06-15T00:33:49.462584Z"
    }
   },
   "cell_type": "code",
   "source": [
    "class ChatBot():\n",
    "    def __init__(self,model='llama3.2'):\n",
    "        self._model=model\n",
    "        self._role=self._set_model()\n",
    "        self._user=self._add_user()\n",
    "        self._assistant=self._add_assistant()\n",
    "\n",
    "    def _set_model(self):\n",
    "        message =[{\"role\":\"system\",\"content\": \"You are a interviewer for a position for a junior AI role\"},\n",
    "                  {\"role\": \"user\", \"content\": self._user},]\n",
    "        return message\n",
    "\n",
    "    def _add_user(self,prompt):\n",
    "        message ={\"role\":\"user\",\"content\": prompt}\n",
    "        self._role.append(message)\n",
    "\n",
    "\n",
    "\n",
    "    def _add_assistant(self,reply):\n",
    "        message={\"role\":\"assistant\",\"content\": reply}\n",
    "        self._role.append(message)\n",
    "\n",
    "    def reply(self):\n",
    "        response=ollama.chat(model=self._model,messages=self._role)\n",
    "        return response[\"message\"][\"content\"]\n",
    "\n",
    "    def conversation(self):\n",
    "        return self._role\n"
   ],
   "id": "8b736ae2ade8eebc",
   "outputs": [],
   "execution_count": 1
  }
 ],
 "metadata": {
  "kernelspec": {
   "display_name": "Python 3 (ipykernel)",
   "language": "python",
   "name": "python3"
  },
  "language_info": {
   "codemirror_mode": {
    "name": "ipython",
    "version": 3
   },
   "file_extension": ".py",
   "mimetype": "text/x-python",
   "name": "python",
   "nbconvert_exporter": "python",
   "pygments_lexer": "ipython3",
   "version": "3.12.6"
  }
 },
 "nbformat": 4,
 "nbformat_minor": 5
}
